{
  "nbformat": 4,
  "nbformat_minor": 0,
  "metadata": {
    "colab": {
      "provenance": []
    },
    "kernelspec": {
      "name": "python3",
      "display_name": "Python 3"
    },
    "language_info": {
      "name": "python"
    }
  },
  "cells": [
    {
      "cell_type": "code",
      "execution_count": 2,
      "metadata": {
        "id": "9laiGcGBIjNy"
      },
      "outputs": [],
      "source": [
        "import pandas as pd\n",
        "from sklearn.preprocessing import StandardScaler\n",
        "from sklearn.metrics.pairwise import cosine_similarity\n",
        "\n",
        "\n",
        "customers = pd.read_csv('/content/Customers.csv')\n",
        "products = pd.read_csv('/content/Products.csv')\n",
        "transactions = pd.read_csv('/content/Transactions.csv')\n",
        "\n",
        "\n",
        "data = transactions.merge(customers, on='CustomerID').merge(products, on='ProductID')"
      ]
    },
    {
      "cell_type": "code",
      "source": [
        "# Feature engineering\n",
        "customer_features = data.groupby('CustomerID').agg({\n",
        "    'TotalValue': ['sum', 'mean'],\n",
        "    'TransactionID': 'count',\n",
        "    'Category': lambda x: x.mode()[0],  # Most common category\n",
        "}).reset_index()\n",
        "customer_features.columns = ['CustomerID', 'TotalSpending', 'AvgSpending', 'TransactionCount', 'PreferredCategory']"
      ],
      "metadata": {
        "id": "kUvhvDKjJLiC"
      },
      "execution_count": 4,
      "outputs": []
    },
    {
      "cell_type": "code",
      "source": [
        "# Normalize features\n",
        "scaler = StandardScaler()\n",
        "scaled_features = scaler.fit_transform(customer_features[['TotalSpending', 'AvgSpending', 'TransactionCount']])"
      ],
      "metadata": {
        "id": "-_Td9n4oI1ea"
      },
      "execution_count": 5,
      "outputs": []
    },
    {
      "cell_type": "code",
      "source": [
        "# Add one-hot encoding for categorical features\n",
        "categories = pd.get_dummies(customer_features['PreferredCategory'], prefix='Category')\n",
        "features = pd.concat([pd.DataFrame(scaled_features), categories], axis=1)\n",
        "\n",
        "# Calculate similarity\n",
        "similarity_matrix = cosine_similarity(features)\n",
        "similarity_df = pd.DataFrame(similarity_matrix, index=customer_features['CustomerID'], columns=customer_features['CustomerID'])\n"
      ],
      "metadata": {
        "id": "Fb2dIkT6JRdZ"
      },
      "execution_count": 6,
      "outputs": []
    },
    {
      "cell_type": "code",
      "source": [
        "# Generate recommendations\n",
        "lookalike_dict = {}\n",
        "for customer in customers['CustomerID'][:20]:\n",
        "    similar_customers = similarity_df[customer].nlargest(4).iloc[1:]  # Exclude self\n",
        "    lookalike_dict[customer] = list(zip(similar_customers.index, similar_customers.values))"
      ],
      "metadata": {
        "id": "9NUICskzJVMi"
      },
      "execution_count": 7,
      "outputs": []
    },
    {
      "cell_type": "code",
      "source": [
        "# Save to CSV\n",
        "lookalike_df = pd.DataFrame({'CustomerID': list(lookalike_dict.keys()),\n",
        "                             'Lookalikes': [str(val) for val in lookalike_dict.values()]})\n",
        "lookalike_df.to_csv('/content/Chetnya_Sharma_Lookalike.csv', index=False)\n"
      ],
      "metadata": {
        "id": "uqNi3lBOJXah"
      },
      "execution_count": 8,
      "outputs": []
    }
  ]
}